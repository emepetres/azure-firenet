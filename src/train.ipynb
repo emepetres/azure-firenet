{
 "cells": [
  {
   "cell_type": "code",
   "execution_count": 1,
   "metadata": {},
   "outputs": [],
   "source": [
    "from azure.cognitiveservices.vision.customvision.training import CustomVisionTrainingClient\n",
    "from azure.cognitiveservices.vision.customvision.prediction import CustomVisionPredictionClient\n",
    "from azure.cognitiveservices.vision.customvision.training.models import ImageFileCreateBatch, ImageFileCreateEntry, Region\n",
    "from msrest.authentication import ApiKeyCredentials\n",
    "import os, time, uuid"
   ]
  },
  {
   "cell_type": "code",
   "execution_count": 8,
   "metadata": {},
   "outputs": [],
   "source": [
    "import yaml\n",
    "with open('../config.yaml') as f:\n",
    "    config = yaml.load(f, Loader=yaml.FullLoader)"
   ]
  },
  {
   "cell_type": "code",
   "execution_count": 3,
   "metadata": {},
   "outputs": [],
   "source": [
    "\n",
    "ENDPOINT = config[\"custom_vision\"][\"endpoint\"];\n",
    "training_key = config[\"custom_vision\"][\"training_key\"]\n",
    "prediction_key = config[\"custom_vision\"][\"prediction_key\"]\n",
    "prediction_resource_id = config[\"custom_vision\"][\"prediction_resource_id\"]"
   ]
  },
  {
   "cell_type": "code",
   "execution_count": 4,
   "metadata": {},
   "outputs": [],
   "source": [
    "# credentials = ApiKeyCredentials(in_headers={\"Training-key\": training_key})\n",
    "# trainer = CustomVisionTrainingClient(ENDPOINT, credentials)\n",
    "# prediction_credentials = ApiKeyCredentials(in_headers={\"Prediction-key\": prediction_key})\n",
    "# predictor = CustomVisionPredictionClient(ENDPOINT, prediction_credentials)"
   ]
  },
  {
   "cell_type": "code",
   "execution_count": 5,
   "metadata": {},
   "outputs": [],
   "source": [
    "publish_iteration_name = \"FireNet\"\n",
    "\n",
    "credentials = ApiKeyCredentials(in_headers={\"Training-key\": training_key})\n",
    "trainer = CustomVisionTrainingClient(ENDPOINT, credentials)"
   ]
  },
  {
   "cell_type": "code",
   "execution_count": 6,
   "metadata": {},
   "outputs": [],
   "source": [
    "\n",
    "# # # Find the object detection domain\n",
    "# # obj_detection_domain = next(domain for domain in trainer.get_domains() if domain.type == \"ObjectDetection\" and domain.name == \"General\")\n",
    "\n",
    "# # # Create a new project\n",
    "# # print (\"Creating project...\")\n",
    "# # # Use uuid to avoid project name collisions.\n",
    "# # project = trainer.create_project(str(uuid.uuid4()), domain_id=obj_detection_domain.id, classification_type=\"Multiclass\");"
   ]
  },
  {
   "cell_type": "code",
   "execution_count": 7,
   "metadata": {},
   "outputs": [],
   "source": [
    "project = trainer.get_project(config[\"project_id\"]);"
   ]
  },
  {
   "cell_type": "markdown",
   "metadata": {},
   "source": [
    "## Upload and tag images"
   ]
  }
 ],
 "metadata": {
  "interpreter": {
   "hash": "98a0b6d604a978f528107cf56ed5adf621efabd1f2a3cefd56fba0ab577db355"
  },
  "kernelspec": {
   "display_name": "Python 3.9.7 64-bit ('azure-firenet': conda)",
   "name": "python3"
  },
  "language_info": {
   "codemirror_mode": {
    "name": "ipython",
    "version": 3
   },
   "file_extension": ".py",
   "mimetype": "text/x-python",
   "name": "python",
   "nbconvert_exporter": "python",
   "pygments_lexer": "ipython3",
   "version": "3.9.7"
  },
  "orig_nbformat": 4
 },
 "nbformat": 4,
 "nbformat_minor": 2
}
