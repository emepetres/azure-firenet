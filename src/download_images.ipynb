{
 "cells": [
  {
   "cell_type": "code",
   "execution_count": 39,
   "metadata": {},
   "outputs": [],
   "source": [
    "from azure.cognitiveservices.vision.customvision.training import CustomVisionTrainingClient\n",
    "from azure.cognitiveservices.vision.customvision.prediction import CustomVisionPredictionClient\n",
    "from azure.cognitiveservices.vision.customvision.training.models import ImageFileCreateBatch, ImageFileCreateEntry, Region\n",
    "from msrest.authentication import ApiKeyCredentials\n",
    "import os, time, uuid"
   ]
  },
  {
   "cell_type": "code",
   "execution_count": 40,
   "metadata": {},
   "outputs": [],
   "source": [
    "import yaml\n",
    "with open('../config.yaml') as f:\n",
    "    config = yaml.load(f, Loader=yaml.FullLoader)"
   ]
  },
  {
   "cell_type": "code",
   "execution_count": 41,
   "metadata": {},
   "outputs": [
    {
     "ename": "ValueError",
     "evalue": "",
     "output_type": "error",
     "traceback": [
      "\u001b[0;31m---------------------------------------------------------------------------\u001b[0m",
      "\u001b[0;31mValueError\u001b[0m                                Traceback (most recent call last)",
      "\u001b[0;32m/tmp/ipykernel_1280/1745264543.py\u001b[0m in \u001b[0;36m<module>\u001b[0;34m\u001b[0m\n\u001b[1;32m      6\u001b[0m \u001b[0mproject_id\u001b[0m \u001b[0;34m=\u001b[0m \u001b[0mconfig\u001b[0m\u001b[0;34m[\u001b[0m\u001b[0;34m\"project_id\"\u001b[0m\u001b[0;34m]\u001b[0m\u001b[0;34m\u001b[0m\u001b[0;34m\u001b[0m\u001b[0m\n\u001b[1;32m      7\u001b[0m \u001b[0;32mif\u001b[0m \u001b[0;32mnot\u001b[0m \u001b[0mconfig\u001b[0m\u001b[0;34m[\u001b[0m\u001b[0;34m\"project_id\"\u001b[0m\u001b[0;34m]\u001b[0m\u001b[0;34m:\u001b[0m\u001b[0;34m\u001b[0m\u001b[0;34m\u001b[0m\u001b[0m\n\u001b[0;32m----> 8\u001b[0;31m     \u001b[0;32mraise\u001b[0m \u001b[0mValueError\u001b[0m\u001b[0;34m\u001b[0m\u001b[0;34m\u001b[0m\u001b[0m\n\u001b[0m",
      "\u001b[0;31mValueError\u001b[0m: "
     ]
    }
   ],
   "source": [
    "\n",
    "ENDPOINT = config[\"custom_vision\"][\"endpoint\"];\n",
    "training_key = config[\"custom_vision\"][\"training_key\"]\n",
    "prediction_key = config[\"custom_vision\"][\"prediction_key\"]\n",
    "prediction_resource_id = config[\"custom_vision\"][\"prediction_resource_id\"]\n",
    "\n",
    "project_id = config[\"project_id\"]\n",
    "if not config[\"project_id\"]:\n",
    "    raise ValueError"
   ]
  },
  {
   "cell_type": "markdown",
   "metadata": {},
   "source": [
    "## Download images and their tags"
   ]
  },
  {
   "cell_type": "code",
   "execution_count": null,
   "metadata": {},
   "outputs": [],
   "source": [
    "from pathlib import Path\n",
    "\n",
    "local_path = Path(f\"../data/{project_id}\")\n",
    "Path.mkdir(local_path, exist_ok=True)\n",
    "images_path = local_path / \"Images\"\n",
    "Path.mkdir(images_path, exist_ok=True)"
   ]
  },
  {
   "cell_type": "code",
   "execution_count": null,
   "metadata": {},
   "outputs": [],
   "source": [
    "import urllib\n",
    "import http\n",
    "import json\n",
    "\n",
    "headers = {\n",
    " 'Training-Key': training_key\n",
    "}\n",
    "\n",
    "params = urllib.parse.urlencode({\n",
    " # Format - int32. Maximum number of images to return. Defaults to 50, limited to 256.\n",
    " 'take': 50,\n",
    " # Format - int32. Number of images to skip before beginning the image batch. Defaults to 0.\n",
    " 'skip': 0,\n",
    " 'orderBy': 'Oldest'\n",
    "})\n",
    "\n",
    "conn = http.client.HTTPSConnection(ENDPOINT)\n",
    "conn.request(\n",
    " \"GET\", f\"/customvision/v3.0/training/projects/{project_id}/images/tagged?%s\" % params, \"{body}\", headers)\n",
    "response = conn.getresponse()\n",
    "data = response.read()\n",
    "data_json = json.loads(data)"
   ]
  },
  {
   "cell_type": "code",
   "execution_count": null,
   "metadata": {},
   "outputs": [
    {
     "data": {
      "text/html": [
       "<div>\n",
       "<style scoped>\n",
       "    .dataframe tbody tr th:only-of-type {\n",
       "        vertical-align: middle;\n",
       "    }\n",
       "\n",
       "    .dataframe tbody tr th {\n",
       "        vertical-align: top;\n",
       "    }\n",
       "\n",
       "    .dataframe thead th {\n",
       "        text-align: right;\n",
       "    }\n",
       "</style>\n",
       "<table border=\"1\" class=\"dataframe\">\n",
       "  <thead>\n",
       "    <tr style=\"text-align: right;\">\n",
       "      <th></th>\n",
       "      <th>filename</th>\n",
       "      <th>tag</th>\n",
       "      <th>left</th>\n",
       "      <th>top</th>\n",
       "      <th>width</th>\n",
       "      <th>height</th>\n",
       "      <th>truncated</th>\n",
       "      <th>difficult</th>\n",
       "    </tr>\n",
       "  </thead>\n",
       "  <tbody>\n",
       "    <tr>\n",
       "      <th>0</th>\n",
       "      <td>28cb9cf9-be0e-498b-9b13-925f87263ef2.png</td>\n",
       "      <td>FireExtinguisher</td>\n",
       "      <td>0.468385</td>\n",
       "      <td>0.433470</td>\n",
       "      <td>0.040096</td>\n",
       "      <td>0.201993</td>\n",
       "      <td>0</td>\n",
       "      <td>0</td>\n",
       "    </tr>\n",
       "    <tr>\n",
       "      <th>1</th>\n",
       "      <td>dfb7ffc8-e1da-485e-9772-4c3ac1e59daa.png</td>\n",
       "      <td>FireExtinguisher</td>\n",
       "      <td>0.446044</td>\n",
       "      <td>0.403684</td>\n",
       "      <td>0.043340</td>\n",
       "      <td>0.247267</td>\n",
       "      <td>0</td>\n",
       "      <td>0</td>\n",
       "    </tr>\n",
       "    <tr>\n",
       "      <th>2</th>\n",
       "      <td>d376db8f-3843-4aee-9cca-074176ce416b.png</td>\n",
       "      <td>FireExtinguisher</td>\n",
       "      <td>0.637128</td>\n",
       "      <td>0.352135</td>\n",
       "      <td>0.062923</td>\n",
       "      <td>0.309699</td>\n",
       "      <td>0</td>\n",
       "      <td>0</td>\n",
       "    </tr>\n",
       "    <tr>\n",
       "      <th>3</th>\n",
       "      <td>13268293-3a85-48ad-9696-6efb94753c15.png</td>\n",
       "      <td>FireExtinguisher</td>\n",
       "      <td>0.698879</td>\n",
       "      <td>0.337952</td>\n",
       "      <td>0.082902</td>\n",
       "      <td>0.332119</td>\n",
       "      <td>0</td>\n",
       "      <td>0</td>\n",
       "    </tr>\n",
       "    <tr>\n",
       "      <th>4</th>\n",
       "      <td>40433882-d626-494d-9439-ef3d8402edad.png</td>\n",
       "      <td>FireExtinguisher</td>\n",
       "      <td>0.428180</td>\n",
       "      <td>0.487169</td>\n",
       "      <td>0.020824</td>\n",
       "      <td>0.081932</td>\n",
       "      <td>0</td>\n",
       "      <td>0</td>\n",
       "    </tr>\n",
       "  </tbody>\n",
       "</table>\n",
       "</div>"
      ],
      "text/plain": [
       "                                   filename               tag      left  \\\n",
       "0  28cb9cf9-be0e-498b-9b13-925f87263ef2.png  FireExtinguisher  0.468385   \n",
       "1  dfb7ffc8-e1da-485e-9772-4c3ac1e59daa.png  FireExtinguisher  0.446044   \n",
       "2  d376db8f-3843-4aee-9cca-074176ce416b.png  FireExtinguisher  0.637128   \n",
       "3  13268293-3a85-48ad-9696-6efb94753c15.png  FireExtinguisher  0.698879   \n",
       "4  40433882-d626-494d-9439-ef3d8402edad.png  FireExtinguisher  0.428180   \n",
       "\n",
       "        top     width    height  truncated  difficult  \n",
       "0  0.433470  0.040096  0.201993          0          0  \n",
       "1  0.403684  0.043340  0.247267          0          0  \n",
       "2  0.352135  0.062923  0.309699          0          0  \n",
       "3  0.337952  0.082902  0.332119          0          0  \n",
       "4  0.487169  0.020824  0.081932          0          0  "
      ]
     },
     "execution_count": 38,
     "metadata": {},
     "output_type": "execute_result"
    }
   ],
   "source": [
    "import pandas as pd\n",
    "\n",
    "df_cols = [\n",
    "    \"filename\",\n",
    "    \"tag\",\n",
    "    \"left\",\n",
    "    \"top\",\n",
    "    \"width\",\n",
    "    \"height\",\n",
    "    \"truncated\",\n",
    "    \"difficult\",\n",
    "]\n",
    "regions = []\n",
    "\n",
    "for image in data_json:\n",
    "    s_filename = image[\"id\"] + \".png\"\n",
    "\n",
    "    # save image file\n",
    "    try:\n",
    "        urllib.request.urlretrieve(image[\"originalImageUri\"], images_path / s_filename)\n",
    "    except:\n",
    "        print(\"Retry\")\n",
    "        urllib.request.urlretrieve(image[\"originalImageUri\"], images_path / s_filename)\n",
    "\n",
    "    # save tags\n",
    "    for tag in image[\"regions\"]:\n",
    "        region = {\"filename\": s_filename}\n",
    "        region[\"tag\"] = tag[\"tagName\"]\n",
    "        region[\"truncated\"] = 0\n",
    "        region[\"difficult\"] = 0\n",
    "\n",
    "        region[\"left\"] = tag[\"left\"]\n",
    "        region[\"top\"] = tag[\"top\"]\n",
    "        region[\"width\"] = tag[\"width\"]\n",
    "        region[\"height\"] = tag[\"height\"]\n",
    "    \n",
    "        regions.append(region)\n",
    "\n",
    "conn.close()\n",
    "\n",
    "df = pd.DataFrame(regions, columns=df_cols)\n",
    "df.to_pickle(local_path / \"object_detection.pkl\")\n",
    "df.head()\n"
   ]
  }
 ],
 "metadata": {
  "interpreter": {
   "hash": "98a0b6d604a978f528107cf56ed5adf621efabd1f2a3cefd56fba0ab577db355"
  },
  "kernelspec": {
   "display_name": "Python 3.9.7 64-bit ('azure-firenet': conda)",
   "name": "python3"
  },
  "language_info": {
   "codemirror_mode": {
    "name": "ipython",
    "version": 3
   },
   "file_extension": ".py",
   "mimetype": "text/x-python",
   "name": "python",
   "nbconvert_exporter": "python",
   "pygments_lexer": "ipython3",
   "version": "3.9.7"
  },
  "orig_nbformat": 4
 },
 "nbformat": 4,
 "nbformat_minor": 2
}
