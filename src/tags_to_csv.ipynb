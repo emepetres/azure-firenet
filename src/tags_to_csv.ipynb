{
 "cells": [
  {
   "cell_type": "code",
   "execution_count": 8,
   "metadata": {},
   "outputs": [],
   "source": [
    "import yaml\n",
    "with open('../config.yaml') as f:\n",
    "    config = yaml.load(f, Loader=yaml.FullLoader)"
   ]
  },
  {
   "cell_type": "code",
   "execution_count": 9,
   "metadata": {},
   "outputs": [
    {
     "name": "stdout",
     "output_type": "stream",
     "text": [
      "1452\n"
     ]
    }
   ],
   "source": [
    "import os\n",
    "from pathlib import Path \n",
    "\n",
    "data_path = Path(config[\"firenet_path\"])\n",
    "images_path = data_path / \"ObjectDetection\"\n",
    "tags_path = data_path / \"ObjectDetection\"\n",
    "\n",
    "images = os.listdir(images_path)\n",
    "xml_tags = os.listdir(tags_path)\n",
    "\n",
    "print(len(xml_tags));"
   ]
  },
  {
   "cell_type": "markdown",
   "metadata": {},
   "source": [
    "## XML tags to Pandas"
   ]
  },
  {
   "cell_type": "code",
   "execution_count": 10,
   "metadata": {},
   "outputs": [],
   "source": [
    "import pandas as pd\n",
    "import xml.etree.ElementTree as et\n",
    "\n",
    "df_cols = [\n",
    "    \"filename\",\n",
    "    \"tag\",\n",
    "    \"left\",\n",
    "    \"top\",\n",
    "    \"width\",\n",
    "    \"height\",\n",
    "    \"truncated\",\n",
    "    \"difficult\",\n",
    "]\n",
    "regions = []\n",
    "\n",
    "for file in xml_tags:\n",
    "    xtree = et.parse(Path(tags_path) / file)\n",
    "    xroot = xtree.getroot()\n",
    "\n",
    "    s_filename = xroot.find(\"filename\").text\n",
    "\n",
    "    size = xroot.find(\"size\")\n",
    "    width = float(size.find(\"width\").text)\n",
    "    height = float(size.find(\"height\").text)\n",
    "    for tag in xroot.findall(\"object\"):\n",
    "        region = {\"filename\": s_filename}\n",
    "        region[\"tag\"] = tag.find(\"name\").text\n",
    "        region[\"truncated\"] = tag.find(\"truncated\").text\n",
    "        region[\"difficult\"] = tag.find(\"difficult\").text\n",
    "\n",
    "        bbox = tag.find(\"bndbox\")\n",
    "        region[\"left\"] = float(bbox.find(\"xmin\").text) / width\n",
    "        region[\"top\"] = float(bbox.find(\"ymin\").text) / height\n",
    "        region[\"width\"] = float(bbox.find(\"xmax\").text) / width\n",
    "        region[\"height\"] = float(bbox.find(\"ymax\").text) / height\n",
    "\n",
    "        regions.append(region)\n",
    "\n",
    "df = pd.DataFrame(regions, columns=df_cols)\n",
    "\n",
    "local_path = Path(\"../data\")\n",
    "Path.mkdir(local_path, exist_ok=True)\n",
    "df.to_csv(local_path / \"object_detection.csv\")\n"
   ]
  },
  {
   "cell_type": "code",
   "execution_count": 11,
   "metadata": {},
   "outputs": [
    {
     "data": {
      "text/html": [
       "<div>\n",
       "<style scoped>\n",
       "    .dataframe tbody tr th:only-of-type {\n",
       "        vertical-align: middle;\n",
       "    }\n",
       "\n",
       "    .dataframe tbody tr th {\n",
       "        vertical-align: top;\n",
       "    }\n",
       "\n",
       "    .dataframe thead th {\n",
       "        text-align: right;\n",
       "    }\n",
       "</style>\n",
       "<table border=\"1\" class=\"dataframe\">\n",
       "  <thead>\n",
       "    <tr style=\"text-align: right;\">\n",
       "      <th></th>\n",
       "      <th>filename</th>\n",
       "      <th>tag</th>\n",
       "      <th>left</th>\n",
       "      <th>top</th>\n",
       "      <th>width</th>\n",
       "      <th>height</th>\n",
       "      <th>truncated</th>\n",
       "      <th>difficult</th>\n",
       "    </tr>\n",
       "  </thead>\n",
       "  <tbody>\n",
       "    <tr>\n",
       "      <th>0</th>\n",
       "      <td>0000.jpg</td>\n",
       "      <td>Fire_Extinguisher</td>\n",
       "      <td>0.172526</td>\n",
       "      <td>0.497070</td>\n",
       "      <td>0.495443</td>\n",
       "      <td>0.952148</td>\n",
       "      <td>0</td>\n",
       "      <td>0</td>\n",
       "    </tr>\n",
       "    <tr>\n",
       "      <th>1</th>\n",
       "      <td>0000.jpg</td>\n",
       "      <td>Fire_Suppression_Signage</td>\n",
       "      <td>0.322266</td>\n",
       "      <td>0.377441</td>\n",
       "      <td>0.450521</td>\n",
       "      <td>0.467773</td>\n",
       "      <td>0</td>\n",
       "      <td>0</td>\n",
       "    </tr>\n",
       "    <tr>\n",
       "      <th>2</th>\n",
       "      <td>0001.jpg</td>\n",
       "      <td>Fire_Blanket</td>\n",
       "      <td>0.236613</td>\n",
       "      <td>0.544428</td>\n",
       "      <td>0.534806</td>\n",
       "      <td>0.842432</td>\n",
       "      <td>0</td>\n",
       "      <td>0</td>\n",
       "    </tr>\n",
       "    <tr>\n",
       "      <th>3</th>\n",
       "      <td>0001.jpg</td>\n",
       "      <td>Fire_Extinguisher</td>\n",
       "      <td>0.579317</td>\n",
       "      <td>0.637613</td>\n",
       "      <td>0.947122</td>\n",
       "      <td>0.974209</td>\n",
       "      <td>0</td>\n",
       "      <td>0</td>\n",
       "    </tr>\n",
       "    <tr>\n",
       "      <th>4</th>\n",
       "      <td>0001.jpg</td>\n",
       "      <td>Fire_Suppression_Signage</td>\n",
       "      <td>0.380857</td>\n",
       "      <td>0.027673</td>\n",
       "      <td>0.707497</td>\n",
       "      <td>0.325678</td>\n",
       "      <td>0</td>\n",
       "      <td>0</td>\n",
       "    </tr>\n",
       "  </tbody>\n",
       "</table>\n",
       "</div>"
      ],
      "text/plain": [
       "   filename                       tag      left       top     width    height  \\\n",
       "0  0000.jpg         Fire_Extinguisher  0.172526  0.497070  0.495443  0.952148   \n",
       "1  0000.jpg  Fire_Suppression_Signage  0.322266  0.377441  0.450521  0.467773   \n",
       "2  0001.jpg              Fire_Blanket  0.236613  0.544428  0.534806  0.842432   \n",
       "3  0001.jpg         Fire_Extinguisher  0.579317  0.637613  0.947122  0.974209   \n",
       "4  0001.jpg  Fire_Suppression_Signage  0.380857  0.027673  0.707497  0.325678   \n",
       "\n",
       "  truncated difficult  \n",
       "0         0         0  \n",
       "1         0         0  \n",
       "2         0         0  \n",
       "3         0         0  \n",
       "4         0         0  "
      ]
     },
     "execution_count": 11,
     "metadata": {},
     "output_type": "execute_result"
    }
   ],
   "source": [
    "df.head()"
   ]
  }
 ],
 "metadata": {
  "interpreter": {
   "hash": "98a0b6d604a978f528107cf56ed5adf621efabd1f2a3cefd56fba0ab577db355"
  },
  "kernelspec": {
   "display_name": "Python 3.9.7 64-bit ('azure-firenet': conda)",
   "name": "python3"
  },
  "language_info": {
   "codemirror_mode": {
    "name": "ipython",
    "version": 3
   },
   "file_extension": ".py",
   "mimetype": "text/x-python",
   "name": "python",
   "nbconvert_exporter": "python",
   "pygments_lexer": "ipython3",
   "version": "3.9.7"
  },
  "orig_nbformat": 4
 },
 "nbformat": 4,
 "nbformat_minor": 2
}
