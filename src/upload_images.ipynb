{
 "cells": [
  {
   "cell_type": "code",
   "execution_count": 1,
   "metadata": {},
   "outputs": [],
   "source": [
    "from azure.cognitiveservices.vision.customvision.training import CustomVisionTrainingClient\n",
    "from azure.cognitiveservices.vision.customvision.prediction import CustomVisionPredictionClient\n",
    "from azure.cognitiveservices.vision.customvision.training.models import ImageFileCreateBatch, ImageFileCreateEntry, Region\n",
    "from msrest.authentication import ApiKeyCredentials\n",
    "import os, time, uuid"
   ]
  },
  {
   "cell_type": "code",
   "execution_count": 2,
   "metadata": {},
   "outputs": [],
   "source": [
    "import yaml\n",
    "with open('../config.yaml') as f:\n",
    "    config = yaml.load(f, Loader=yaml.FullLoader)"
   ]
  },
  {
   "cell_type": "code",
   "execution_count": 3,
   "metadata": {},
   "outputs": [],
   "source": [
    "\n",
    "ENDPOINT = config[\"custom_vision\"][\"endpoint\"];\n",
    "training_key = config[\"custom_vision\"][\"training_key\"]\n",
    "prediction_key = config[\"custom_vision\"][\"prediction_key\"]\n",
    "prediction_resource_id = config[\"custom_vision\"][\"prediction_resource_id\"]"
   ]
  },
  {
   "cell_type": "code",
   "execution_count": 5,
   "metadata": {},
   "outputs": [],
   "source": [
    "publish_iteration_name = \"FireNet\"\n",
    "\n",
    "credentials = ApiKeyCredentials(in_headers={\"Training-key\": training_key})\n",
    "trainer = CustomVisionTrainingClient(ENDPOINT, credentials)"
   ]
  },
  {
   "cell_type": "code",
   "execution_count": 7,
   "metadata": {},
   "outputs": [],
   "source": [
    "project = trainer.get_project(config[\"project_id\"]);"
   ]
  },
  {
   "cell_type": "markdown",
   "metadata": {},
   "source": [
    "## Upload and tag images"
   ]
  },
  {
   "cell_type": "code",
   "execution_count": 8,
   "metadata": {},
   "outputs": [
    {
     "data": {
      "text/html": [
       "<div>\n",
       "<style scoped>\n",
       "    .dataframe tbody tr th:only-of-type {\n",
       "        vertical-align: middle;\n",
       "    }\n",
       "\n",
       "    .dataframe tbody tr th {\n",
       "        vertical-align: top;\n",
       "    }\n",
       "\n",
       "    .dataframe thead th {\n",
       "        text-align: right;\n",
       "    }\n",
       "</style>\n",
       "<table border=\"1\" class=\"dataframe\">\n",
       "  <thead>\n",
       "    <tr style=\"text-align: right;\">\n",
       "      <th></th>\n",
       "      <th>filename</th>\n",
       "      <th>tag</th>\n",
       "      <th>left</th>\n",
       "      <th>top</th>\n",
       "      <th>width</th>\n",
       "      <th>height</th>\n",
       "      <th>truncated</th>\n",
       "      <th>difficult</th>\n",
       "    </tr>\n",
       "  </thead>\n",
       "  <tbody>\n",
       "    <tr>\n",
       "      <th>0</th>\n",
       "      <td>0000.jpg</td>\n",
       "      <td>Fire_Extinguisher</td>\n",
       "      <td>0.172526</td>\n",
       "      <td>0.497070</td>\n",
       "      <td>0.322917</td>\n",
       "      <td>0.455078</td>\n",
       "      <td>0</td>\n",
       "      <td>0</td>\n",
       "    </tr>\n",
       "    <tr>\n",
       "      <th>1</th>\n",
       "      <td>0000.jpg</td>\n",
       "      <td>Fire_Suppression_Signage</td>\n",
       "      <td>0.322266</td>\n",
       "      <td>0.377441</td>\n",
       "      <td>0.128255</td>\n",
       "      <td>0.090332</td>\n",
       "      <td>0</td>\n",
       "      <td>0</td>\n",
       "    </tr>\n",
       "    <tr>\n",
       "      <th>2</th>\n",
       "      <td>0001.jpg</td>\n",
       "      <td>Fire_Blanket</td>\n",
       "      <td>0.236613</td>\n",
       "      <td>0.544428</td>\n",
       "      <td>0.298193</td>\n",
       "      <td>0.298005</td>\n",
       "      <td>0</td>\n",
       "      <td>0</td>\n",
       "    </tr>\n",
       "    <tr>\n",
       "      <th>3</th>\n",
       "      <td>0001.jpg</td>\n",
       "      <td>Fire_Extinguisher</td>\n",
       "      <td>0.579317</td>\n",
       "      <td>0.637613</td>\n",
       "      <td>0.367805</td>\n",
       "      <td>0.336596</td>\n",
       "      <td>0</td>\n",
       "      <td>0</td>\n",
       "    </tr>\n",
       "    <tr>\n",
       "      <th>4</th>\n",
       "      <td>0001.jpg</td>\n",
       "      <td>Fire_Suppression_Signage</td>\n",
       "      <td>0.380857</td>\n",
       "      <td>0.027673</td>\n",
       "      <td>0.326640</td>\n",
       "      <td>0.298005</td>\n",
       "      <td>0</td>\n",
       "      <td>0</td>\n",
       "    </tr>\n",
       "  </tbody>\n",
       "</table>\n",
       "</div>"
      ],
      "text/plain": [
       "   filename                       tag      left       top     width    height  \\\n",
       "0  0000.jpg         Fire_Extinguisher  0.172526  0.497070  0.322917  0.455078   \n",
       "1  0000.jpg  Fire_Suppression_Signage  0.322266  0.377441  0.128255  0.090332   \n",
       "2  0001.jpg              Fire_Blanket  0.236613  0.544428  0.298193  0.298005   \n",
       "3  0001.jpg         Fire_Extinguisher  0.579317  0.637613  0.367805  0.336596   \n",
       "4  0001.jpg  Fire_Suppression_Signage  0.380857  0.027673  0.326640  0.298005   \n",
       "\n",
       "  truncated difficult  \n",
       "0         0         0  \n",
       "1         0         0  \n",
       "2         0         0  \n",
       "3         0         0  \n",
       "4         0         0  "
      ]
     },
     "execution_count": 8,
     "metadata": {},
     "output_type": "execute_result"
    }
   ],
   "source": [
    "import pandas as pd\n",
    "from pathlib import Path\n",
    "\n",
    "firenet_path = Path(config[\"firenet_path\"])\n",
    "images_path = firenet_path / \"Images\"\n",
    "\n",
    "local_path = Path(\"../data\")\n",
    "df = pd.read_pickle(local_path / \"object_detection.pkl\")\n",
    "df.head()"
   ]
  },
  {
   "cell_type": "markdown",
   "metadata": {},
   "source": [
    "### Add tags to the project"
   ]
  },
  {
   "cell_type": "code",
   "execution_count": 9,
   "metadata": {},
   "outputs": [
    {
     "data": {
      "text/plain": [
       "8"
      ]
     },
     "execution_count": 9,
     "metadata": {},
     "output_type": "execute_result"
    }
   ],
   "source": [
    "tags = {}\n",
    "for az_tag in trainer.get_tags(project.id):\n",
    "    tags[az_tag.name] = az_tag\n",
    "for tag_name in df.tag.unique():\n",
    "    if tag_name not in tags:\n",
    "        tags[tag_name] = trainer.create_tag(project.id, tag_name)\n",
    "len(tags)"
   ]
  },
  {
   "cell_type": "markdown",
   "metadata": {},
   "source": [
    "### Adding images"
   ]
  },
  {
   "cell_type": "code",
   "execution_count": 14,
   "metadata": {},
   "outputs": [
    {
     "name": "stdout",
     "output_type": "stream",
     "text": [
      "Loading images and labels...\n"
     ]
    },
    {
     "name": "stderr",
     "output_type": "stream",
     "text": [
      " 25%|██▍       | 362/1449 [00:00<00:00, 3402.71it/s]"
     ]
    },
    {
     "name": "stdout",
     "output_type": "stream",
     "text": [
      "Uploading image batch 400 ...\n"
     ]
    },
    {
     "name": "stderr",
     "output_type": "stream",
     "text": [
      " 28%|██▊       | 405/1449 [00:15<00:53, 19.46it/s]"
     ]
    },
    {
     "name": "stdout",
     "output_type": "stream",
     "text": [
      "Uploading image batch 450 ...\n",
      "Uploading image batch 500 ...\n"
     ]
    },
    {
     "name": "stderr",
     "output_type": "stream",
     "text": [
      " 35%|███▍      | 505/1449 [00:40<02:05,  7.54it/s]"
     ]
    },
    {
     "name": "stdout",
     "output_type": "stream",
     "text": [
      "Uploading image batch 550 ...\n"
     ]
    },
    {
     "name": "stderr",
     "output_type": "stream",
     "text": [
      " 38%|███▊      | 554/1449 [00:53<02:30,  5.95it/s]"
     ]
    },
    {
     "name": "stdout",
     "output_type": "stream",
     "text": [
      "Uploading image batch 600 ...\n"
     ]
    },
    {
     "name": "stderr",
     "output_type": "stream",
     "text": [
      " 44%|████▍     | 643/1449 [01:07<01:49,  7.34it/s]"
     ]
    },
    {
     "name": "stdout",
     "output_type": "stream",
     "text": [
      "Uploading image batch 650 ...\n"
     ]
    },
    {
     "name": "stderr",
     "output_type": "stream",
     "text": [
      " 48%|████▊     | 691/1449 [01:20<02:04,  6.10it/s]"
     ]
    },
    {
     "name": "stdout",
     "output_type": "stream",
     "text": [
      "Uploading image batch 700 ...\n"
     ]
    },
    {
     "name": "stderr",
     "output_type": "stream",
     "text": [
      " 52%|█████▏    | 747/1449 [01:33<01:16,  9.23it/s]"
     ]
    },
    {
     "name": "stdout",
     "output_type": "stream",
     "text": [
      "Uploading image batch 750 ...\n"
     ]
    },
    {
     "name": "stderr",
     "output_type": "stream",
     "text": [
      " 55%|█████▌    | 798/1449 [01:46<01:05,  9.87it/s]"
     ]
    },
    {
     "name": "stdout",
     "output_type": "stream",
     "text": [
      "Uploading image batch 800 ...\n"
     ]
    },
    {
     "name": "stderr",
     "output_type": "stream",
     "text": [
      " 58%|█████▊    | 847/1449 [01:57<00:54, 11.13it/s]"
     ]
    },
    {
     "name": "stdout",
     "output_type": "stream",
     "text": [
      "Uploading image batch 850 ...\n"
     ]
    },
    {
     "name": "stderr",
     "output_type": "stream",
     "text": [
      " 62%|██████▏   | 895/1449 [02:09<00:53, 10.37it/s]"
     ]
    },
    {
     "name": "stdout",
     "output_type": "stream",
     "text": [
      "Uploading image batch 900 ...\n"
     ]
    },
    {
     "name": "stderr",
     "output_type": "stream",
     "text": [
      " 65%|██████▌   | 944/1449 [02:24<00:38, 13.06it/s]"
     ]
    },
    {
     "name": "stdout",
     "output_type": "stream",
     "text": [
      "Uploading image batch 950 ...\n"
     ]
    },
    {
     "name": "stderr",
     "output_type": "stream",
     "text": [
      " 69%|██████▊   | 994/1449 [02:38<00:36, 12.60it/s]"
     ]
    },
    {
     "name": "stdout",
     "output_type": "stream",
     "text": [
      "Uploading image batch 1000 ...\n"
     ]
    },
    {
     "name": "stderr",
     "output_type": "stream",
     "text": [
      " 72%|███████▏  | 1042/1449 [02:49<00:29, 13.76it/s]"
     ]
    },
    {
     "name": "stdout",
     "output_type": "stream",
     "text": [
      "Uploading image batch 1050 ...\n"
     ]
    },
    {
     "name": "stderr",
     "output_type": "stream",
     "text": [
      " 76%|███████▌  | 1097/1449 [03:02<00:19, 18.42it/s]"
     ]
    },
    {
     "name": "stdout",
     "output_type": "stream",
     "text": [
      "Uploading image batch 1100 ...\n"
     ]
    },
    {
     "name": "stderr",
     "output_type": "stream",
     "text": [
      " 79%|███████▉  | 1145/1449 [03:18<00:30, 10.09it/s]"
     ]
    },
    {
     "name": "stdout",
     "output_type": "stream",
     "text": [
      "Uploading image batch 1150 ...\n"
     ]
    },
    {
     "name": "stderr",
     "output_type": "stream",
     "text": [
      " 83%|████████▎ | 1199/1449 [03:32<00:16, 15.12it/s]"
     ]
    },
    {
     "name": "stdout",
     "output_type": "stream",
     "text": [
      "Uploading image batch 1200 ...\n"
     ]
    },
    {
     "name": "stderr",
     "output_type": "stream",
     "text": [
      " 86%|████████▌ | 1243/1449 [03:46<00:21,  9.52it/s]"
     ]
    },
    {
     "name": "stdout",
     "output_type": "stream",
     "text": [
      "Uploading image batch 1250 ...\n"
     ]
    },
    {
     "name": "stderr",
     "output_type": "stream",
     "text": [
      " 90%|████████▉ | 1299/1449 [03:57<00:08, 17.04it/s]"
     ]
    },
    {
     "name": "stdout",
     "output_type": "stream",
     "text": [
      "Uploading image batch 1300 ...\n"
     ]
    },
    {
     "name": "stderr",
     "output_type": "stream",
     "text": [
      " 93%|█████████▎| 1342/1449 [04:10<00:11,  9.31it/s]"
     ]
    },
    {
     "name": "stdout",
     "output_type": "stream",
     "text": [
      "Uploading image batch 1350 ...\n"
     ]
    },
    {
     "name": "stderr",
     "output_type": "stream",
     "text": [
      " 96%|█████████▋| 1395/1449 [04:26<00:04, 13.43it/s]"
     ]
    },
    {
     "name": "stdout",
     "output_type": "stream",
     "text": [
      "Uploading image batch 1400 ...\n"
     ]
    },
    {
     "name": "stderr",
     "output_type": "stream",
     "text": [
      "100%|██████████| 1449/1449 [04:40<00:00,  5.17it/s]\n"
     ]
    }
   ],
   "source": [
    "from tqdm import tqdm\n",
    "\n",
    "start_at = 350\n",
    "\n",
    "tagged_images_with_regions = []\n",
    "\n",
    "print(\"Loading images and labels...\")\n",
    "\n",
    "images = df.filename.unique()\n",
    "i = 0\n",
    "for file_name in tqdm(images):\n",
    "    i += 1\n",
    "    if (i <= start_at):\n",
    "        continue\n",
    "\n",
    "    rows = df.where(df.filename == file_name).dropna()\n",
    "    regions = []\n",
    "    for _, row in rows.iterrows():\n",
    "        regions.append(\n",
    "            Region(\n",
    "                tag_id=tags[row[\"tag\"]].id,\n",
    "                left=row[\"left\"],\n",
    "                top=row[\"top\"],\n",
    "                width=row[\"width\"],\n",
    "                height=row[\"height\"],\n",
    "            )\n",
    "        )\n",
    "\n",
    "    with open(images_path / file_name, mode=\"rb\") as image_contents:\n",
    "        tagged_images_with_regions.append(\n",
    "            ImageFileCreateEntry(\n",
    "                name=file_name, contents=image_contents.read(), regions=regions\n",
    "            )\n",
    "        )\n",
    "\n",
    "    if i % 50 == 0:\n",
    "        print(f\"Uploading image batch {i} ...\")\n",
    "        upload_result = trainer.create_images_from_files(\n",
    "            project.id, ImageFileCreateBatch(images=tagged_images_with_regions)\n",
    "        )\n",
    "        tagged_images_with_regions = []\n",
    "        if not upload_result.is_batch_successful:\n",
    "            errors = False\n",
    "            for image in upload_result.images:\n",
    "                if image.status != \"OK\" and image.status != \"OKDuplicate\":\n",
    "                    errors = True\n",
    "                    print(f\"Image {image.source_url}: {image.status}\")\n",
    "            if errors:\n",
    "                print(f\"Image batch {i} upload failed.\")\n",
    "                break\n",
    "\n",
    "if len(tagged_images_with_regions) > 0:\n",
    "    print(f\"Uploading latest batch {i}...\")\n",
    "    upload_result = trainer.create_images_from_files(\n",
    "        project.id, ImageFileCreateBatch(images=tagged_images_with_regions)\n",
    "    )\n",
    "    tagged_images_with_regions = []\n",
    "    if not upload_result.is_batch_successful:\n",
    "        errors = False\n",
    "        for image in upload_result.images:\n",
    "            if image.status != \"OK\" and image.status != \"OKDuplicate\":\n",
    "                errors = True\n",
    "                print(f\"Image {image.source_url}: {image.status}\")\n",
    "        if errors:\n",
    "            print(f\"Latest Image batch upload failed.\")\n"
   ]
  }
 ],
 "metadata": {
  "interpreter": {
   "hash": "98a0b6d604a978f528107cf56ed5adf621efabd1f2a3cefd56fba0ab577db355"
  },
  "kernelspec": {
   "display_name": "Python 3.9.7 64-bit ('azure-firenet': conda)",
   "name": "python3"
  },
  "language_info": {
   "codemirror_mode": {
    "name": "ipython",
    "version": 3
   },
   "file_extension": ".py",
   "mimetype": "text/x-python",
   "name": "python",
   "nbconvert_exporter": "python",
   "pygments_lexer": "ipython3",
   "version": "3.9.7"
  },
  "orig_nbformat": 4
 },
 "nbformat": 4,
 "nbformat_minor": 2
}
