{
 "cells": [
  {
   "cell_type": "code",
   "execution_count": 22,
   "metadata": {},
   "outputs": [],
   "source": [
    "from azure.cognitiveservices.vision.customvision.training import CustomVisionTrainingClient\n",
    "from azure.cognitiveservices.vision.customvision.prediction import CustomVisionPredictionClient\n",
    "from azure.cognitiveservices.vision.customvision.training.models import ImageFileCreateBatch, ImageFileCreateEntry, Region\n",
    "from msrest.authentication import ApiKeyCredentials\n",
    "import os, time, uuid"
   ]
  },
  {
   "cell_type": "code",
   "execution_count": 23,
   "metadata": {},
   "outputs": [],
   "source": [
    "import yaml\n",
    "with open('../config.yaml') as f:\n",
    "    config = yaml.load(f, Loader=yaml.FullLoader)"
   ]
  },
  {
   "cell_type": "code",
   "execution_count": 24,
   "metadata": {},
   "outputs": [],
   "source": [
    "ENDPOINT = f\"https://{config['custom_vision']['endpoint']}/\"\n",
    "training_key = config[\"custom_vision\"][\"training_key\"]\n",
    "prediction_key = config[\"custom_vision\"][\"prediction_key\"]\n",
    "prediction_resource_id = config[\"custom_vision\"][\"prediction_resource_id\"]\n",
    "firenet_tags = config[\"firenet_tags\"]\n"
   ]
  },
  {
   "cell_type": "code",
   "execution_count": 25,
   "metadata": {},
   "outputs": [],
   "source": [
    "publish_iteration_name = \"FireNet\"\n",
    "\n",
    "credentials = ApiKeyCredentials(in_headers={\"Training-key\": training_key})\n",
    "trainer = CustomVisionTrainingClient(ENDPOINT, credentials)"
   ]
  },
  {
   "cell_type": "code",
   "execution_count": 26,
   "metadata": {},
   "outputs": [
    {
     "name": "stdout",
     "output_type": "stream",
     "text": [
      "Creating project...\n"
     ]
    },
    {
     "data": {
      "text/plain": [
       "'Project ID: 591faad1-d097-4f4d-bccb-53872cd6c9ee'"
      ]
     },
     "execution_count": 26,
     "metadata": {},
     "output_type": "execute_result"
    }
   ],
   "source": [
    "if not config[\"project_id\"]:\n",
    "    # Create a new project\n",
    "    print(\"Creating project...\")\n",
    "    obj_detection_domain = next(\n",
    "        domain\n",
    "        for domain in trainer.get_domains()\n",
    "        if domain.type == \"ObjectDetection\" and domain.name == \"General\"\n",
    "    )\n",
    "\n",
    "    # Use uuid to avoid project name collisions.\n",
    "    project = trainer.create_project(\n",
    "        str(uuid.uuid4()),\n",
    "        domain_id=obj_detection_domain.id,\n",
    "        classification_type=\"Multiclass\",\n",
    "    )\n",
    "else:\n",
    "    project = trainer.get_project(config[\"project_id\"])\n",
    "\n",
    "f\"Project ID: {project.id}\"\n"
   ]
  },
  {
   "cell_type": "markdown",
   "metadata": {},
   "source": [
    "## Upload and tag images"
   ]
  },
  {
   "cell_type": "code",
   "execution_count": 27,
   "metadata": {},
   "outputs": [
    {
     "data": {
      "text/html": [
       "<div>\n",
       "<style scoped>\n",
       "    .dataframe tbody tr th:only-of-type {\n",
       "        vertical-align: middle;\n",
       "    }\n",
       "\n",
       "    .dataframe tbody tr th {\n",
       "        vertical-align: top;\n",
       "    }\n",
       "\n",
       "    .dataframe thead th {\n",
       "        text-align: right;\n",
       "    }\n",
       "</style>\n",
       "<table border=\"1\" class=\"dataframe\">\n",
       "  <thead>\n",
       "    <tr style=\"text-align: right;\">\n",
       "      <th></th>\n",
       "      <th>filename</th>\n",
       "      <th>tag</th>\n",
       "      <th>left</th>\n",
       "      <th>top</th>\n",
       "      <th>width</th>\n",
       "      <th>height</th>\n",
       "      <th>truncated</th>\n",
       "      <th>difficult</th>\n",
       "    </tr>\n",
       "  </thead>\n",
       "  <tbody>\n",
       "    <tr>\n",
       "      <th>0</th>\n",
       "      <td>0000.jpg</td>\n",
       "      <td>Fire_Extinguisher</td>\n",
       "      <td>0.172526</td>\n",
       "      <td>0.497070</td>\n",
       "      <td>0.322917</td>\n",
       "      <td>0.455078</td>\n",
       "      <td>0</td>\n",
       "      <td>0</td>\n",
       "    </tr>\n",
       "    <tr>\n",
       "      <th>1</th>\n",
       "      <td>0000.jpg</td>\n",
       "      <td>Fire_Suppression_Signage</td>\n",
       "      <td>0.322266</td>\n",
       "      <td>0.377441</td>\n",
       "      <td>0.128255</td>\n",
       "      <td>0.090332</td>\n",
       "      <td>0</td>\n",
       "      <td>0</td>\n",
       "    </tr>\n",
       "    <tr>\n",
       "      <th>2</th>\n",
       "      <td>0001.jpg</td>\n",
       "      <td>Fire_Blanket</td>\n",
       "      <td>0.236613</td>\n",
       "      <td>0.544428</td>\n",
       "      <td>0.298193</td>\n",
       "      <td>0.298005</td>\n",
       "      <td>0</td>\n",
       "      <td>0</td>\n",
       "    </tr>\n",
       "    <tr>\n",
       "      <th>3</th>\n",
       "      <td>0001.jpg</td>\n",
       "      <td>Fire_Extinguisher</td>\n",
       "      <td>0.579317</td>\n",
       "      <td>0.637613</td>\n",
       "      <td>0.367805</td>\n",
       "      <td>0.336596</td>\n",
       "      <td>0</td>\n",
       "      <td>0</td>\n",
       "    </tr>\n",
       "    <tr>\n",
       "      <th>4</th>\n",
       "      <td>0001.jpg</td>\n",
       "      <td>Fire_Suppression_Signage</td>\n",
       "      <td>0.380857</td>\n",
       "      <td>0.027673</td>\n",
       "      <td>0.326640</td>\n",
       "      <td>0.298005</td>\n",
       "      <td>0</td>\n",
       "      <td>0</td>\n",
       "    </tr>\n",
       "  </tbody>\n",
       "</table>\n",
       "</div>"
      ],
      "text/plain": [
       "   filename                       tag      left       top     width    height  \\\n",
       "0  0000.jpg         Fire_Extinguisher  0.172526  0.497070  0.322917  0.455078   \n",
       "1  0000.jpg  Fire_Suppression_Signage  0.322266  0.377441  0.128255  0.090332   \n",
       "2  0001.jpg              Fire_Blanket  0.236613  0.544428  0.298193  0.298005   \n",
       "3  0001.jpg         Fire_Extinguisher  0.579317  0.637613  0.367805  0.336596   \n",
       "4  0001.jpg  Fire_Suppression_Signage  0.380857  0.027673  0.326640  0.298005   \n",
       "\n",
       "  truncated difficult  \n",
       "0         0         0  \n",
       "1         0         0  \n",
       "2         0         0  \n",
       "3         0         0  \n",
       "4         0         0  "
      ]
     },
     "execution_count": 27,
     "metadata": {},
     "output_type": "execute_result"
    }
   ],
   "source": [
    "import pandas as pd\n",
    "from pathlib import Path\n",
    "\n",
    "firenet_path = Path(config[\"firenet_path\"])\n",
    "images_path = firenet_path / \"Images\"\n",
    "\n",
    "df = pd.read_pickle(firenet_path / \"object_detection.pkl\")\n",
    "df.head()"
   ]
  },
  {
   "cell_type": "markdown",
   "metadata": {},
   "source": [
    "### Add tags to the project"
   ]
  },
  {
   "cell_type": "code",
   "execution_count": 28,
   "metadata": {},
   "outputs": [
    {
     "data": {
      "text/plain": [
       "1"
      ]
     },
     "execution_count": 28,
     "metadata": {},
     "output_type": "execute_result"
    }
   ],
   "source": [
    "tags = {}\n",
    "for az_tag in trainer.get_tags(project.id):\n",
    "    if az_tag.name in firenet_tags.values():\n",
    "        tags[az_tag.name] = az_tag\n",
    "for tag_name in df.tag.unique():\n",
    "    if tag_name in firenet_tags and tag_name not in tags:\n",
    "        tags[firenet_tags[tag_name]] = trainer.create_tag(project.id, firenet_tags[tag_name])\n",
    "len(tags)"
   ]
  },
  {
   "cell_type": "markdown",
   "metadata": {},
   "source": [
    "### Adding images"
   ]
  },
  {
   "cell_type": "code",
   "execution_count": 29,
   "metadata": {},
   "outputs": [
    {
     "name": "stdout",
     "output_type": "stream",
     "text": [
      "Loading images and labels...\n"
     ]
    },
    {
     "name": "stderr",
     "output_type": "stream",
     "text": [
      "  3%|▎         | 42/1449 [00:00<00:06, 204.55it/s]"
     ]
    },
    {
     "name": "stdout",
     "output_type": "stream",
     "text": [
      "Uploading image batch 50 ...\n"
     ]
    },
    {
     "name": "stderr",
     "output_type": "stream",
     "text": [
      "  6%|▌         | 89/1449 [00:05<01:33, 14.53it/s]"
     ]
    },
    {
     "name": "stdout",
     "output_type": "stream",
     "text": [
      "Uploading image batch 100 ...\n"
     ]
    },
    {
     "name": "stderr",
     "output_type": "stream",
     "text": [
      "  9%|▉         | 137/1449 [00:10<01:31, 14.34it/s]"
     ]
    },
    {
     "name": "stdout",
     "output_type": "stream",
     "text": [
      "Uploading image batch 150 ...\n"
     ]
    },
    {
     "name": "stderr",
     "output_type": "stream",
     "text": [
      " 13%|█▎        | 189/1449 [00:12<01:06, 18.91it/s]"
     ]
    },
    {
     "name": "stdout",
     "output_type": "stream",
     "text": [
      "Uploading image batch 200 ...\n"
     ]
    },
    {
     "name": "stderr",
     "output_type": "stream",
     "text": [
      " 16%|█▋        | 238/1449 [00:14<00:44, 27.03it/s]"
     ]
    },
    {
     "name": "stdout",
     "output_type": "stream",
     "text": [
      "Uploading image batch 250 ...\n"
     ]
    },
    {
     "name": "stderr",
     "output_type": "stream",
     "text": [
      " 19%|█▉        | 280/1449 [00:16<00:51, 22.86it/s]"
     ]
    },
    {
     "name": "stdout",
     "output_type": "stream",
     "text": [
      "Uploading image batch 300 ...\n"
     ]
    },
    {
     "name": "stderr",
     "output_type": "stream",
     "text": [
      " 24%|██▍       | 345/1449 [00:19<00:39, 28.13it/s]"
     ]
    },
    {
     "name": "stdout",
     "output_type": "stream",
     "text": [
      "Uploading image batch 350 ...\n"
     ]
    },
    {
     "name": "stderr",
     "output_type": "stream",
     "text": [
      " 27%|██▋       | 393/1449 [00:24<01:03, 16.71it/s]"
     ]
    },
    {
     "name": "stdout",
     "output_type": "stream",
     "text": [
      "Uploading image batch 400 ...\n"
     ]
    },
    {
     "name": "stderr",
     "output_type": "stream",
     "text": [
      " 30%|██▉       | 434/1449 [00:28<01:08, 14.72it/s]"
     ]
    },
    {
     "name": "stdout",
     "output_type": "stream",
     "text": [
      "Uploading image batch 450 ...\n"
     ]
    },
    {
     "name": "stderr",
     "output_type": "stream",
     "text": [
      " 33%|███▎      | 482/1449 [00:31<00:58, 16.39it/s]"
     ]
    },
    {
     "name": "stdout",
     "output_type": "stream",
     "text": [
      "Uploading image batch 500 ...\n"
     ]
    },
    {
     "name": "stderr",
     "output_type": "stream",
     "text": [
      " 38%|███▊      | 549/1449 [00:33<00:32, 27.73it/s]"
     ]
    },
    {
     "name": "stdout",
     "output_type": "stream",
     "text": [
      "Uploading image batch 550 ...\n"
     ]
    },
    {
     "name": "stderr",
     "output_type": "stream",
     "text": [
      " 41%|████▏     | 598/1449 [00:38<00:45, 18.86it/s]"
     ]
    },
    {
     "name": "stdout",
     "output_type": "stream",
     "text": [
      "Uploading image batch 600 ...\n"
     ]
    },
    {
     "name": "stderr",
     "output_type": "stream",
     "text": [
      " 45%|████▍     | 645/1449 [00:41<00:43, 18.31it/s]"
     ]
    },
    {
     "name": "stdout",
     "output_type": "stream",
     "text": [
      "Uploading image batch 650 ...\n"
     ]
    },
    {
     "name": "stderr",
     "output_type": "stream",
     "text": [
      " 47%|████▋     | 684/1449 [00:45<00:52, 14.56it/s]"
     ]
    },
    {
     "name": "stdout",
     "output_type": "stream",
     "text": [
      "Uploading image batch 700 ...\n"
     ]
    },
    {
     "name": "stderr",
     "output_type": "stream",
     "text": [
      " 50%|█████     | 728/1449 [00:50<00:57, 12.50it/s]"
     ]
    },
    {
     "name": "stdout",
     "output_type": "stream",
     "text": [
      "Uploading image batch 750 ...\n"
     ]
    },
    {
     "name": "stderr",
     "output_type": "stream",
     "text": [
      " 54%|█████▎    | 778/1449 [00:53<00:41, 16.22it/s]"
     ]
    },
    {
     "name": "stdout",
     "output_type": "stream",
     "text": [
      "Uploading image batch 800 ...\n"
     ]
    },
    {
     "name": "stderr",
     "output_type": "stream",
     "text": [
      " 57%|█████▋    | 830/1449 [00:55<00:28, 21.41it/s]"
     ]
    },
    {
     "name": "stdout",
     "output_type": "stream",
     "text": [
      "Uploading image batch 850 ...\n"
     ]
    },
    {
     "name": "stderr",
     "output_type": "stream",
     "text": [
      " 62%|██████▏   | 898/1449 [00:57<00:15, 34.52it/s]"
     ]
    },
    {
     "name": "stdout",
     "output_type": "stream",
     "text": [
      "Uploading image batch 900 ...\n"
     ]
    },
    {
     "name": "stderr",
     "output_type": "stream",
     "text": [
      " 65%|██████▌   | 944/1449 [01:00<00:20, 25.03it/s]"
     ]
    },
    {
     "name": "stdout",
     "output_type": "stream",
     "text": [
      "Uploading image batch 950 ...\n"
     ]
    },
    {
     "name": "stderr",
     "output_type": "stream",
     "text": [
      " 68%|██████▊   | 984/1449 [01:04<00:27, 17.09it/s]"
     ]
    },
    {
     "name": "stdout",
     "output_type": "stream",
     "text": [
      "Uploading image batch 1000 ...\n"
     ]
    },
    {
     "name": "stderr",
     "output_type": "stream",
     "text": [
      " 72%|███████▏  | 1039/1449 [01:07<00:17, 23.53it/s]"
     ]
    },
    {
     "name": "stdout",
     "output_type": "stream",
     "text": [
      "Uploading image batch 1050 ...\n"
     ]
    },
    {
     "name": "stderr",
     "output_type": "stream",
     "text": [
      " 75%|███████▌  | 1092/1449 [01:11<00:15, 22.53it/s]"
     ]
    },
    {
     "name": "stdout",
     "output_type": "stream",
     "text": [
      "Uploading image batch 1100 ...\n"
     ]
    },
    {
     "name": "stderr",
     "output_type": "stream",
     "text": [
      " 79%|███████▊  | 1141/1449 [01:15<00:14, 21.12it/s]"
     ]
    },
    {
     "name": "stdout",
     "output_type": "stream",
     "text": [
      "Uploading image batch 1150 ...\n"
     ]
    },
    {
     "name": "stderr",
     "output_type": "stream",
     "text": [
      " 82%|████████▏ | 1181/1449 [01:19<00:15, 17.32it/s]"
     ]
    },
    {
     "name": "stdout",
     "output_type": "stream",
     "text": [
      "Uploading image batch 1200 ...\n"
     ]
    },
    {
     "name": "stderr",
     "output_type": "stream",
     "text": [
      " 86%|████████▌ | 1243/1449 [01:23<00:07, 26.45it/s]"
     ]
    },
    {
     "name": "stdout",
     "output_type": "stream",
     "text": [
      "Uploading image batch 1250 ...\n"
     ]
    },
    {
     "name": "stderr",
     "output_type": "stream",
     "text": [
      " 89%|████████▉ | 1294/1449 [01:27<00:06, 25.30it/s]"
     ]
    },
    {
     "name": "stdout",
     "output_type": "stream",
     "text": [
      "Uploading image batch 1300 ...\n"
     ]
    },
    {
     "name": "stderr",
     "output_type": "stream",
     "text": [
      " 93%|█████████▎| 1343/1449 [01:32<00:04, 24.90it/s]"
     ]
    },
    {
     "name": "stdout",
     "output_type": "stream",
     "text": [
      "Uploading image batch 1350 ...\n"
     ]
    },
    {
     "name": "stderr",
     "output_type": "stream",
     "text": [
      " 96%|█████████▌| 1386/1449 [01:37<00:03, 20.14it/s]"
     ]
    },
    {
     "name": "stdout",
     "output_type": "stream",
     "text": [
      "Uploading image batch 1400 ...\n"
     ]
    },
    {
     "name": "stderr",
     "output_type": "stream",
     "text": [
      "100%|██████████| 1449/1449 [01:42<00:00, 14.11it/s]\n"
     ]
    },
    {
     "name": "stdout",
     "output_type": "stream",
     "text": [
      "Uploading latest batch 1449...\n"
     ]
    }
   ],
   "source": [
    "from tqdm import tqdm\n",
    "\n",
    "batch_size = config[\"upload_batch_size\"]\n",
    "tagged_images_with_regions = []\n",
    "\n",
    "print(\"Loading images and labels...\")\n",
    "\n",
    "images = df.filename.unique()\n",
    "i = 0\n",
    "for file_name in tqdm(images):\n",
    "    i += 1\n",
    "\n",
    "    rows = df.where(df.filename == file_name).dropna()\n",
    "    regions = []\n",
    "    for _, row in rows.iterrows():\n",
    "        if row[\"tag\"] in firenet_tags:\n",
    "            regions.append(\n",
    "                Region(\n",
    "                    tag_id=tags[firenet_tags[row[\"tag\"]]].id,\n",
    "                    left=row[\"left\"],\n",
    "                    top=row[\"top\"],\n",
    "                    width=row[\"width\"],\n",
    "                    height=row[\"height\"],\n",
    "                )\n",
    "            )\n",
    "    if regions:\n",
    "        with open(images_path / file_name, mode=\"rb\") as image_contents:\n",
    "            tagged_images_with_regions.append(\n",
    "                ImageFileCreateEntry(\n",
    "                    name=file_name, contents=image_contents.read(), regions=regions\n",
    "                )\n",
    "            )\n",
    "\n",
    "    if i % batch_size == 0 and tagged_images_with_regions:\n",
    "        print(f\"Uploading image batch {i} ...\")\n",
    "        upload_result = trainer.create_images_from_files(\n",
    "            project.id, ImageFileCreateBatch(images=tagged_images_with_regions)\n",
    "        )\n",
    "        tagged_images_with_regions = []\n",
    "        if not upload_result.is_batch_successful:\n",
    "            errors = False\n",
    "            for image in upload_result.images:\n",
    "                if image.status != \"OK\" and image.status != \"OKDuplicate\":\n",
    "                    errors = True\n",
    "                    print(f\"Image {image.source_url}: {image.status}\")\n",
    "            if errors:\n",
    "                print(f\"Image batch {i} upload failed.\")\n",
    "                break\n",
    "\n",
    "if len(tagged_images_with_regions) > 0:\n",
    "    print(f\"Uploading latest batch {i}...\")\n",
    "    upload_result = trainer.create_images_from_files(\n",
    "        project.id, ImageFileCreateBatch(images=tagged_images_with_regions)\n",
    "    )\n",
    "    tagged_images_with_regions = []\n",
    "    if not upload_result.is_batch_successful:\n",
    "        errors = False\n",
    "        for image in upload_result.images:\n",
    "            if image.status != \"OK\" and image.status != \"OKDuplicate\":\n",
    "                errors = True\n",
    "                print(f\"Image {image.source_url}: {image.status}\")\n",
    "        if errors:\n",
    "            print(f\"Latest Image batch upload failed.\")\n"
   ]
  }
 ],
 "metadata": {
  "interpreter": {
   "hash": "98a0b6d604a978f528107cf56ed5adf621efabd1f2a3cefd56fba0ab577db355"
  },
  "kernelspec": {
   "display_name": "Python 3.9.7 64-bit ('azure-firenet': conda)",
   "name": "python3"
  },
  "language_info": {
   "codemirror_mode": {
    "name": "ipython",
    "version": 3
   },
   "file_extension": ".py",
   "mimetype": "text/x-python",
   "name": "python",
   "nbconvert_exporter": "python",
   "pygments_lexer": "ipython3",
   "version": "3.9.7"
  },
  "orig_nbformat": 4
 },
 "nbformat": 4,
 "nbformat_minor": 2
}
